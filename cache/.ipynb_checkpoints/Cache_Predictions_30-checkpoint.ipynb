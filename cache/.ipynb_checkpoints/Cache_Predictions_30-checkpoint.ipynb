{
 "cells": [
  {
   "cell_type": "code",
   "execution_count": 1,
   "metadata": {},
   "outputs": [
    {
     "ename": "ModuleNotFoundError",
     "evalue": "No module named 'src'",
     "output_type": "error",
     "traceback": [
      "\u001b[1;31m---------------------------------------------------------------------------\u001b[0m",
      "\u001b[1;31mModuleNotFoundError\u001b[0m                       Traceback (most recent call last)",
      "\u001b[1;32m<ipython-input-1-7bbfdc29bc00>\u001b[0m in \u001b[0;36m<module>\u001b[1;34m\u001b[0m\n\u001b[1;32m----> 1\u001b[1;33m \u001b[1;32mfrom\u001b[0m \u001b[0msrc\u001b[0m\u001b[1;33m.\u001b[0m\u001b[0mpages\u001b[0m\u001b[1;33m.\u001b[0m\u001b[0mprediction\u001b[0m \u001b[1;32mimport\u001b[0m \u001b[0mload_data\u001b[0m\u001b[1;33m,\u001b[0m \u001b[0mload_weights\u001b[0m\u001b[1;33m,\u001b[0m \u001b[0mcreate_ipf\u001b[0m\u001b[1;33m\u001b[0m\u001b[1;33m\u001b[0m\u001b[0m\n\u001b[0m\u001b[0;32m      2\u001b[0m \u001b[1;32mfrom\u001b[0m \u001b[0msrc\u001b[0m\u001b[1;33m.\u001b[0m\u001b[0mpages\u001b[0m\u001b[1;33m.\u001b[0m\u001b[0mpredict\u001b[0m \u001b[1;32mimport\u001b[0m \u001b[0mpredict\u001b[0m\u001b[1;33m\u001b[0m\u001b[1;33m\u001b[0m\u001b[0m\n",
      "\u001b[1;31mModuleNotFoundError\u001b[0m: No module named 'src'"
     ]
    }
   ],
   "source": [
    "from src.pages.prediction import load_data, load_weights, create_ipf\n",
    "from src.pages.predict import predict"
   ]
  },
  {
   "cell_type": "code",
   "execution_count": null,
   "metadata": {},
   "outputs": [],
   "source": [
    "data = load_data()\n",
    "countries = list(data.sort_values(by=\"ConfirmedCases\", ascending=False)[\"CountryName\"].unique())\n",
    "n_days = 30\n",
    "weights = load_weights()\n",
    "c1 = weights[weights[\"CountryName\"]==selected_country][\"C1_School closing\"].reset_index(drop=True)[0]\n",
    "c2 = weights[weights[\"CountryName\"]==selected_country][\"C2_Workplace closing\"].reset_index(drop=True)[0]\n",
    "c3 = weights[weights[\"CountryName\"]==selected_country][\"C4_Restrictions on gatherings\"].reset_index(drop=True)[0]\n",
    "c4 = weights[weights[\"CountryName\"]==selected_country][\"C5_Close public transport\"].reset_index(drop=True)[0]\n",
    "c5 = weights[weights[\"CountryName\"]==selected_country][\"C6_Stay at home requirements\"].reset_index(drop=True)[0]\n",
    "c6 = weights[weights[\"CountryName\"]==selected_country][\"C7_Restrictions on internal movement\"].reset_index(drop=True)[0]\n",
    "c7 = weights[weights[\"CountryName\"]==selected_country][\"C8_International travel controls\"].reset_index(drop=True)[0]\n",
    "c8 = weights[weights[\"CountryName\"]==selected_country][\"H1_Public information campaigns\"].reset_index(drop=True)[0]\n",
    "h1 = weights[weights[\"CountryName\"]==selected_country][\"H1_Public information campaigns\"].reset_index(drop=True)[0]\n",
    "h2 = weights[weights[\"CountryName\"]==selected_country][\"H2_Testing policy\"].reset_index(drop=True)[0]\n",
    "h3 = weights[weights[\"CountryName\"]==selected_country][\"H3_Contact tracing\"].reset_index(drop=True)[0]\n",
    "h6 = weights[weights[\"CountryName\"]==selected_country][\"H6_Facial Coverings\"].reset_index(drop=True)[0]\n",
    "\n",
    "ip = create_ip(selected_country, c1, c2, c3, c4, c5, c6, c7, c8, h1, h2, h3, h6, n_days)\n",
    "\t\tpred = predict(ip)\n",
    "\t\tdf = data[data[\"CountryName\"]==selected_country].reset_index(drop=True)\n",
    "\t\tdf = df[[\"CountryName\", \"Date\", \"ConfirmedCases\", \"ConfirmedDeaths\", \"DailyNewCases\", \"DailyNewDeaths\"]]\n",
    "\t\tt = pred.copy()\n",
    "\t\tt = t[[\"CountryName\", \"Date\", \"PredictedDailyTotalCases\", \"PredictedDailyTotalDeaths\", \"PredictedDailyNewCases\", \"PredictedDailyNewDeaths\"]]\n",
    "\t\tt.rename(columns={\"PredictedDailyTotalCases\":\"ConfirmedCases\",\n",
    "\t\t\t\"PredictedDailyTotalDeaths\":\"ConfirmedDeaths\",\n",
    "\t\t\t\"PredictedDailyNewCases\":\"DailyNewCases\",\n",
    "\t\t\t\"PredictedDailyNewDeaths\":\"DailyNewDeaths\"}, inplace=True)\n",
    "\t\tt = t.round()\n",
    "\t\tdfn = pd.concat([df, t])\n",
    "\t\tdfn = dfn.tail(90+n_days).reset_index(drop=True) #dfn[334:].reset_index(drop=True)\n",
    "\t\tdfn[\"DailyNewCasesMA\"] = dfn[\"DailyNewCases\"].rolling(7).mean()\n",
    "\t\tdfn[\"DailyNewCasesMA\"].fillna(dfn[\"DailyNewCases\"], inplace=True)\n",
    "\t\tdfn[\"DailyNewCases\"] = dfn[\"DailyNewCasesMA\"]\n",
    "\n",
    "\t\tdfn.to_csv(\"src/data/cached_30/cached_30_{}.csv\".format(selected_country), index=False)\n",
    "\t\tst.write(\"Saved \", selected_country,\"!\")"
   ]
  }
 ],
 "metadata": {
  "kernelspec": {
   "display_name": "Python 3",
   "language": "python",
   "name": "python3"
  },
  "language_info": {
   "codemirror_mode": {
    "name": "ipython",
    "version": 3
   },
   "file_extension": ".py",
   "mimetype": "text/x-python",
   "name": "python",
   "nbconvert_exporter": "python",
   "pygments_lexer": "ipython3",
   "version": "3.7.7"
  }
 },
 "nbformat": 4,
 "nbformat_minor": 4
}
